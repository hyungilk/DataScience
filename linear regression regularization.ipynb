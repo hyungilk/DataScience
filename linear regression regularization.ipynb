{
 "cells": [
  {
   "cell_type": "code",
   "execution_count": 27,
   "metadata": {},
   "outputs": [
    {
     "data": {
      "text/html": [
       "<div>\n",
       "<style scoped>\n",
       "    .dataframe tbody tr th:only-of-type {\n",
       "        vertical-align: middle;\n",
       "    }\n",
       "\n",
       "    .dataframe tbody tr th {\n",
       "        vertical-align: top;\n",
       "    }\n",
       "\n",
       "    .dataframe thead th {\n",
       "        text-align: right;\n",
       "    }\n",
       "</style>\n",
       "<table border=\"1\" class=\"dataframe\">\n",
       "  <thead>\n",
       "    <tr style=\"text-align: right;\">\n",
       "      <th></th>\n",
       "      <th>population</th>\n",
       "      <th>profit</th>\n",
       "    </tr>\n",
       "  </thead>\n",
       "  <tbody>\n",
       "    <tr>\n",
       "      <th>0</th>\n",
       "      <td>6.756771</td>\n",
       "      <td>17.728187</td>\n",
       "    </tr>\n",
       "    <tr>\n",
       "      <th>1</th>\n",
       "      <td>5.948906</td>\n",
       "      <td>9.918155</td>\n",
       "    </tr>\n",
       "    <tr>\n",
       "      <th>2</th>\n",
       "      <td>8.951095</td>\n",
       "      <td>14.069011</td>\n",
       "    </tr>\n",
       "    <tr>\n",
       "      <th>3</th>\n",
       "      <td>7.588211</td>\n",
       "      <td>12.450870</td>\n",
       "    </tr>\n",
       "    <tr>\n",
       "      <th>4</th>\n",
       "      <td>6.621710</td>\n",
       "      <td>6.962025</td>\n",
       "    </tr>\n",
       "    <tr>\n",
       "      <th>...</th>\n",
       "      <td>...</td>\n",
       "      <td>...</td>\n",
       "    </tr>\n",
       "    <tr>\n",
       "      <th>92</th>\n",
       "      <td>6.517264</td>\n",
       "      <td>7.568078</td>\n",
       "    </tr>\n",
       "    <tr>\n",
       "      <th>93</th>\n",
       "      <td>5.835273</td>\n",
       "      <td>2.243663</td>\n",
       "    </tr>\n",
       "    <tr>\n",
       "      <th>94</th>\n",
       "      <td>8.602265</td>\n",
       "      <td>0.710644</td>\n",
       "    </tr>\n",
       "    <tr>\n",
       "      <th>95</th>\n",
       "      <td>13.547492</td>\n",
       "      <td>9.311569</td>\n",
       "    </tr>\n",
       "    <tr>\n",
       "      <th>96</th>\n",
       "      <td>5.797456</td>\n",
       "      <td>1.016851</td>\n",
       "    </tr>\n",
       "  </tbody>\n",
       "</table>\n",
       "<p>97 rows × 2 columns</p>\n",
       "</div>"
      ],
      "text/plain": [
       "    population     profit\n",
       "0     6.756771  17.728187\n",
       "1     5.948906   9.918155\n",
       "2     8.951095  14.069011\n",
       "3     7.588211  12.450870\n",
       "4     6.621710   6.962025\n",
       "..         ...        ...\n",
       "92    6.517264   7.568078\n",
       "93    5.835273   2.243663\n",
       "94    8.602265   0.710644\n",
       "95   13.547492   9.311569\n",
       "96    5.797456   1.016851\n",
       "\n",
       "[97 rows x 2 columns]"
      ]
     },
     "execution_count": 27,
     "metadata": {},
     "output_type": "execute_result"
    }
   ],
   "source": [
    "### author : hyungil ed kim\n",
    "### date : 21.03.28\n",
    "\n",
    "### data science in python\n",
    "### 3. linear regression w/regularization \n",
    "\n",
    "import pandas as pd\n",
    "import numpy as np\n",
    "import matplotlib.pyplot as plt\n",
    "\n",
    "'''\n",
    "python data import\n",
    "with open('Dataset_1.csv') as file:\n",
    "    data =[]\n",
    "    for line in file.readlines():\n",
    "        data.append(list(map(float,line.rstrip().split(','))))\n",
    "    print(data[0])\n",
    "\n",
    "#numpy data import\n",
    "data_1 = np.loadtxt('Dataset_1.csv', delimiter = ',')\n",
    "print(data_1[0])\n",
    "'''\n",
    "# pandas data import\n",
    "data = pd.read_csv('Dataset_1.csv', header = None)\n",
    "data.columns = ['population', 'profit']\n",
    "data"
   ]
  },
  {
   "cell_type": "code",
   "execution_count": 28,
   "metadata": {},
   "outputs": [
    {
     "name": "stdout",
     "output_type": "stream",
     "text": [
      "   const  population\n",
      "0    1.0    6.756771\n",
      "1    1.0    5.948906\n",
      "2    1.0    8.951095\n",
      "3    1.0    7.588211\n",
      "4    1.0    6.621710\n"
     ]
    }
   ],
   "source": [
    "X, y = data[\"population\"], data[\"profit\"]\n",
    "\n",
    "# bias항 추가 (1회만 수행)\n",
    "import statsmodels.api as sm\n",
    "X_new = sm.add_constant(X, has_constant=\"add\")\n",
    "print(X_new.head())"
   ]
  },
  {
   "cell_type": "code",
   "execution_count": 36,
   "metadata": {},
   "outputs": [
    {
     "name": "stdout",
     "output_type": "stream",
     "text": [
      "[-3.97264297  1.1880345 ]\n"
     ]
    }
   ],
   "source": [
    "# 선형회귀 계수 수식 직접 계산\n",
    "tmp1 = np.dot(X_new.T,X_new)\n",
    "tmp1\n",
    "theta = np.dot(np.linalg.inv(tmp1),np.dot(X_new.T,y))\n",
    "print(theta)\n"
   ]
  },
  {
   "cell_type": "code",
   "execution_count": 30,
   "metadata": {},
   "outputs": [
    {
     "name": "stdout",
     "output_type": "stream",
     "text": [
      "(67, 2) (30, 2) (67,) (30,)\n"
     ]
    }
   ],
   "source": [
    "# training set, test set 분리\n",
    "from sklearn.model_selection import train_test_split\n",
    "\n",
    "trainX, testX, trainY, testY = train_test_split(X_new,y,train_size=0.7,test_size=0.3)\n",
    "print(trainX.shape, testX.shape, trainY.shape, testY.shape)"
   ]
  },
  {
   "cell_type": "code",
   "execution_count": 39,
   "metadata": {},
   "outputs": [],
   "source": [
    "lm, alpha = 1, 0.01\n",
    "def costRegularization(X,y,theta, lm, alpha):\n",
    "    m = X.shape[0]\n",
    "    err = np.dot(X, theta) - y\n",
    "    result = (alpha/(2*m))*sum((err)**2)+(lm/(2*m))* sum(theta[1:]**2)\n",
    "    return result\n",
    "\n",
    "\n",
    "def gdRegularization(X,y,theta, lm, alpha):\n",
    "    m = X.shape[0]\n",
    "    grad = np.repeat(0, theta.size)\n",
    "    err = np.dot(X,theta) - y\n",
    "    \n",
    "    grad[0] = 1/m * sum((err)*X.iloc[:,0])\n",
    "    for i in range(theta.size):\n",
    "        grad[i] = 1/m * sum((err)*X.iloc[:,i]) + lm/m * theta[i]\n",
    "    return grad\n",
    "\n"
   ]
  },
  {
   "cell_type": "code",
   "execution_count": 40,
   "metadata": {},
   "outputs": [
    {
     "data": {
      "text/plain": [
       "array([0, 2])"
      ]
     },
     "execution_count": 40,
     "metadata": {},
     "output_type": "execute_result"
    }
   ],
   "source": [
    "costRegularization(trainX, trainY,theta, lm, alpha)\n",
    "gdRegularization(trainX, trainY, theta, lm, alpha)"
   ]
  },
  {
   "cell_type": "code",
   "execution_count": 35,
   "metadata": {},
   "outputs": [
    {
     "data": {
      "text/plain": [
       "1"
      ]
     },
     "execution_count": 35,
     "metadata": {},
     "output_type": "execute_result"
    }
   ],
   "source": []
  },
  {
   "cell_type": "code",
   "execution_count": null,
   "metadata": {},
   "outputs": [],
   "source": []
  }
 ],
 "metadata": {
  "kernelspec": {
   "display_name": "Python 3",
   "language": "python",
   "name": "python3"
  },
  "language_info": {
   "codemirror_mode": {
    "name": "ipython",
    "version": 3
   },
   "file_extension": ".py",
   "mimetype": "text/x-python",
   "name": "python",
   "nbconvert_exporter": "python",
   "pygments_lexer": "ipython3",
   "version": "3.8.5"
  }
 },
 "nbformat": 4,
 "nbformat_minor": 4
}
