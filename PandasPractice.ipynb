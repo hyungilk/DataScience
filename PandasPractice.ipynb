{
 "cells": [
  {
   "cell_type": "code",
   "execution_count": 22,
   "metadata": {},
   "outputs": [
    {
     "name": "stdout",
     "output_type": "stream",
     "text": [
      "   Id                                           Model  Price  Age_08_04  \\\n",
      "0   1   TOYOTA Corolla 2.0 D4D HATCHB TERRA 2/3-Doors  13500         23   \n",
      "1   2   TOYOTA Corolla 2.0 D4D HATCHB TERRA 2/3-Doors  13750         23   \n",
      "2   3  ?TOYOTA Corolla 2.0 D4D HATCHB TERRA 2/3-Doors  13950         24   \n",
      "3   4   TOYOTA Corolla 2.0 D4D HATCHB TERRA 2/3-Doors  14950         26   \n",
      "4   5     TOYOTA Corolla 2.0 D4D HATCHB SOL 2/3-Doors  13750         30   \n",
      "\n",
      "   Mfg_Month  Mfg_Year     KM Fuel_Type  HP  Met_Color  ...  Central_Lock  \\\n",
      "0         10      2002  46986    Diesel  90          1  ...             1   \n",
      "1         10      2002  72937    Diesel  90          1  ...             1   \n",
      "2          9      2002  41711    Diesel  90          1  ...             0   \n",
      "3          7      2002  48000    Diesel  90          0  ...             0   \n",
      "4          3      2002  38500    Diesel  90          0  ...             1   \n",
      "\n",
      "   Powered_Windows  Power_Steering  Radio  Mistlamps  Sport_Model  \\\n",
      "0                1               1      0          0            0   \n",
      "1                0               1      0          0            0   \n",
      "2                0               1      0          0            0   \n",
      "3                0               1      0          0            0   \n",
      "4                1               1      0          1            0   \n",
      "\n",
      "   Backseat_Divider  Metallic_Rim  Radio_cassette  Tow_Bar  \n",
      "0                 1             0               0        0  \n",
      "1                 1             0               0        0  \n",
      "2                 1             0               0        0  \n",
      "3                 1             0               0        0  \n",
      "4                 1             0               0        0  \n",
      "\n",
      "[5 rows x 37 columns]\n"
     ]
    }
   ],
   "source": [
    "import os\n",
    "import pandas as pd\n",
    "import numpy as np\n",
    "import statsmodels.api as sm\n",
    "\n",
    "\n",
    "corolia = pd.read_csv(\"ToyotaCorolla.csv\")\n",
    "print(corolia.head())"
   ]
  },
  {
   "cell_type": "code",
   "execution_count": 2,
   "metadata": {},
   "outputs": [
    {
     "name": "stdout",
     "output_type": "stream",
     "text": [
      "1436 37\n"
     ]
    }
   ],
   "source": [
    "nCar=corolia.shape[0]\n",
    "nVar=corolia.shape[1]\n",
    "\n",
    "print(nCar,nVar)"
   ]
  },
  {
   "cell_type": "code",
   "execution_count": 3,
   "metadata": {},
   "outputs": [
    {
     "name": "stdout",
     "output_type": "stream",
     "text": [
      "['Diesel' 'Petrol' 'CNG']\n"
     ]
    }
   ],
   "source": [
    "print(corolia.Fuel_Type.unique())"
   ]
  },
  {
   "cell_type": "code",
   "execution_count": 7,
   "metadata": {},
   "outputs": [],
   "source": [
    "dummy_p = np.repeat(0,nCar)\n",
    "dummy_d = np.repeat(0,nCar)\n",
    "dummy_c = np.repeat(0,nCar)"
   ]
  },
  {
   "cell_type": "code",
   "execution_count": 10,
   "metadata": {},
   "outputs": [
    {
     "name": "stdout",
     "output_type": "stream",
     "text": [
      "[False False False ...  True  True  True] [ True  True  True ... False False False] [False False False ... False False False]\n"
     ]
    }
   ],
   "source": [
    "p_idx = np.array(corolia.Fuel_Type==\"Petrol\")\n",
    "d_idx = np.array(corolia.Fuel_Type==\"Diesel\")\n",
    "c_idx = np.array(corolia.Fuel_Type==\"CNG\")\n",
    "print(p_idx,d_idx,c_idx)"
   ]
  },
  {
   "cell_type": "code",
   "execution_count": 20,
   "metadata": {},
   "outputs": [
    {
     "data": {
      "text/html": [
       "<div>\n",
       "<style scoped>\n",
       "    .dataframe tbody tr th:only-of-type {\n",
       "        vertical-align: middle;\n",
       "    }\n",
       "\n",
       "    .dataframe tbody tr th {\n",
       "        vertical-align: top;\n",
       "    }\n",
       "\n",
       "    .dataframe thead th {\n",
       "        text-align: right;\n",
       "    }\n",
       "</style>\n",
       "<table border=\"1\" class=\"dataframe\">\n",
       "  <thead>\n",
       "    <tr style=\"text-align: right;\">\n",
       "      <th></th>\n",
       "      <th>Price</th>\n",
       "      <th>Age_08_04</th>\n",
       "      <th>Mfg_Month</th>\n",
       "      <th>Mfg_Year</th>\n",
       "      <th>KM</th>\n",
       "      <th>HP</th>\n",
       "      <th>Met_Color</th>\n",
       "      <th>Automatic</th>\n",
       "      <th>cc</th>\n",
       "      <th>Doors</th>\n",
       "      <th>...</th>\n",
       "      <th>Radio</th>\n",
       "      <th>Mistlamps</th>\n",
       "      <th>Sport_Model</th>\n",
       "      <th>Backseat_Divider</th>\n",
       "      <th>Metallic_Rim</th>\n",
       "      <th>Radio_cassette</th>\n",
       "      <th>Tow_Bar</th>\n",
       "      <th>Petrol</th>\n",
       "      <th>Diesel</th>\n",
       "      <th>CNG</th>\n",
       "    </tr>\n",
       "  </thead>\n",
       "  <tbody>\n",
       "    <tr>\n",
       "      <th>0</th>\n",
       "      <td>13500</td>\n",
       "      <td>23</td>\n",
       "      <td>10</td>\n",
       "      <td>2002</td>\n",
       "      <td>46986</td>\n",
       "      <td>90</td>\n",
       "      <td>1</td>\n",
       "      <td>0</td>\n",
       "      <td>2000</td>\n",
       "      <td>3</td>\n",
       "      <td>...</td>\n",
       "      <td>0</td>\n",
       "      <td>0</td>\n",
       "      <td>0</td>\n",
       "      <td>1</td>\n",
       "      <td>0</td>\n",
       "      <td>0</td>\n",
       "      <td>0</td>\n",
       "      <td>0</td>\n",
       "      <td>1</td>\n",
       "      <td>0</td>\n",
       "    </tr>\n",
       "    <tr>\n",
       "      <th>1</th>\n",
       "      <td>13750</td>\n",
       "      <td>23</td>\n",
       "      <td>10</td>\n",
       "      <td>2002</td>\n",
       "      <td>72937</td>\n",
       "      <td>90</td>\n",
       "      <td>1</td>\n",
       "      <td>0</td>\n",
       "      <td>2000</td>\n",
       "      <td>3</td>\n",
       "      <td>...</td>\n",
       "      <td>0</td>\n",
       "      <td>0</td>\n",
       "      <td>0</td>\n",
       "      <td>1</td>\n",
       "      <td>0</td>\n",
       "      <td>0</td>\n",
       "      <td>0</td>\n",
       "      <td>0</td>\n",
       "      <td>1</td>\n",
       "      <td>0</td>\n",
       "    </tr>\n",
       "    <tr>\n",
       "      <th>2</th>\n",
       "      <td>13950</td>\n",
       "      <td>24</td>\n",
       "      <td>9</td>\n",
       "      <td>2002</td>\n",
       "      <td>41711</td>\n",
       "      <td>90</td>\n",
       "      <td>1</td>\n",
       "      <td>0</td>\n",
       "      <td>2000</td>\n",
       "      <td>3</td>\n",
       "      <td>...</td>\n",
       "      <td>0</td>\n",
       "      <td>0</td>\n",
       "      <td>0</td>\n",
       "      <td>1</td>\n",
       "      <td>0</td>\n",
       "      <td>0</td>\n",
       "      <td>0</td>\n",
       "      <td>0</td>\n",
       "      <td>1</td>\n",
       "      <td>0</td>\n",
       "    </tr>\n",
       "    <tr>\n",
       "      <th>3</th>\n",
       "      <td>14950</td>\n",
       "      <td>26</td>\n",
       "      <td>7</td>\n",
       "      <td>2002</td>\n",
       "      <td>48000</td>\n",
       "      <td>90</td>\n",
       "      <td>0</td>\n",
       "      <td>0</td>\n",
       "      <td>2000</td>\n",
       "      <td>3</td>\n",
       "      <td>...</td>\n",
       "      <td>0</td>\n",
       "      <td>0</td>\n",
       "      <td>0</td>\n",
       "      <td>1</td>\n",
       "      <td>0</td>\n",
       "      <td>0</td>\n",
       "      <td>0</td>\n",
       "      <td>0</td>\n",
       "      <td>1</td>\n",
       "      <td>0</td>\n",
       "    </tr>\n",
       "    <tr>\n",
       "      <th>4</th>\n",
       "      <td>13750</td>\n",
       "      <td>30</td>\n",
       "      <td>3</td>\n",
       "      <td>2002</td>\n",
       "      <td>38500</td>\n",
       "      <td>90</td>\n",
       "      <td>0</td>\n",
       "      <td>0</td>\n",
       "      <td>2000</td>\n",
       "      <td>3</td>\n",
       "      <td>...</td>\n",
       "      <td>0</td>\n",
       "      <td>1</td>\n",
       "      <td>0</td>\n",
       "      <td>1</td>\n",
       "      <td>0</td>\n",
       "      <td>0</td>\n",
       "      <td>0</td>\n",
       "      <td>0</td>\n",
       "      <td>1</td>\n",
       "      <td>0</td>\n",
       "    </tr>\n",
       "  </tbody>\n",
       "</table>\n",
       "<p>5 rows × 37 columns</p>\n",
       "</div>"
      ],
      "text/plain": [
       "   Price  Age_08_04  Mfg_Month  Mfg_Year     KM  HP  Met_Color  Automatic  \\\n",
       "0  13500         23         10      2002  46986  90          1          0   \n",
       "1  13750         23         10      2002  72937  90          1          0   \n",
       "2  13950         24          9      2002  41711  90          1          0   \n",
       "3  14950         26          7      2002  48000  90          0          0   \n",
       "4  13750         30          3      2002  38500  90          0          0   \n",
       "\n",
       "     cc  Doors  ...  Radio  Mistlamps  Sport_Model  Backseat_Divider  \\\n",
       "0  2000      3  ...      0          0            0                 1   \n",
       "1  2000      3  ...      0          0            0                 1   \n",
       "2  2000      3  ...      0          0            0                 1   \n",
       "3  2000      3  ...      0          0            0                 1   \n",
       "4  2000      3  ...      0          1            0                 1   \n",
       "\n",
       "   Metallic_Rim  Radio_cassette  Tow_Bar  Petrol  Diesel  CNG  \n",
       "0             0               0        0       0       1    0  \n",
       "1             0               0        0       0       1    0  \n",
       "2             0               0        0       0       1    0  \n",
       "3             0               0        0       0       1    0  \n",
       "4             0               0        0       0       1    0  \n",
       "\n",
       "[5 rows x 37 columns]"
      ]
     },
     "execution_count": 20,
     "metadata": {},
     "output_type": "execute_result"
    }
   ],
   "source": [
    "dummy_p[p_idx] = 1\n",
    "dummy_d[d_idx] = 1\n",
    "dummy_c[c_idx] = 1\n",
    "\n",
    "Fuel = pd.DataFrame({\"Petrol\":dummy_p, \"Diesel\":dummy_d, \"CNG\":dummy_c})\n",
    "corolia_ = corolia.drop([\"Id\",\"Model\",\"Fuel_Type\"], axis=1,inplace=False)\n",
    "# concat axis=1 : column방향 이어 붙이기\n",
    "mlrData = pd.concat((corolia_,Fuel),axis=1)\n",
    "mlrData.head()"
   ]
  },
  {
   "cell_type": "code",
   "execution_count": 23,
   "metadata": {},
   "outputs": [
    {
     "name": "stdout",
     "output_type": "stream",
     "text": [
      "   const  Price  Age_08_04  Mfg_Month  Mfg_Year     KM  HP  Met_Color  \\\n",
      "0    1.0  13500         23         10      2002  46986  90          1   \n",
      "1    1.0  13750         23         10      2002  72937  90          1   \n",
      "2    1.0  13950         24          9      2002  41711  90          1   \n",
      "3    1.0  14950         26          7      2002  48000  90          0   \n",
      "4    1.0  13750         30          3      2002  38500  90          0   \n",
      "\n",
      "   Automatic    cc  ...  Radio  Mistlamps  Sport_Model  Backseat_Divider  \\\n",
      "0          0  2000  ...      0          0            0                 1   \n",
      "1          0  2000  ...      0          0            0                 1   \n",
      "2          0  2000  ...      0          0            0                 1   \n",
      "3          0  2000  ...      0          0            0                 1   \n",
      "4          0  2000  ...      0          1            0                 1   \n",
      "\n",
      "   Metallic_Rim  Radio_cassette  Tow_Bar  Petrol  Diesel  CNG  \n",
      "0             0               0        0       0       1    0  \n",
      "1             0               0        0       0       1    0  \n",
      "2             0               0        0       0       1    0  \n",
      "3             0               0        0       0       1    0  \n",
      "4             0               0        0       0       1    0  \n",
      "\n",
      "[5 rows x 38 columns]\n"
     ]
    }
   ],
   "source": [
    "mlrData = sm.add_constant(mlrData,has_constant=\"add\")\n",
    "print(mlrData.head())"
   ]
  },
  {
   "cell_type": "code",
   "execution_count": 24,
   "metadata": {},
   "outputs": [
    {
     "data": {
      "text/plain": [
       "['ABS',\n",
       " 'Age_08_04',\n",
       " 'Airbag_1',\n",
       " 'Airbag_2',\n",
       " 'Airco',\n",
       " 'Automatic',\n",
       " 'Automatic_airco',\n",
       " 'BOVAG_Guarantee',\n",
       " 'Backseat_Divider',\n",
       " 'Boardcomputer',\n",
       " 'CD_Player',\n",
       " 'CNG',\n",
       " 'Central_Lock',\n",
       " 'Cylinders',\n",
       " 'Diesel',\n",
       " 'Doors',\n",
       " 'Gears',\n",
       " 'Guarantee_Period',\n",
       " 'HP',\n",
       " 'KM',\n",
       " 'Met_Color',\n",
       " 'Metallic_Rim',\n",
       " 'Mfg_Month',\n",
       " 'Mfg_Year',\n",
       " 'Mfr_Guarantee',\n",
       " 'Mistlamps',\n",
       " 'Petrol',\n",
       " 'Power_Steering',\n",
       " 'Powered_Windows',\n",
       " 'Quarterly_Tax',\n",
       " 'Radio',\n",
       " 'Radio_cassette',\n",
       " 'Sport_Model',\n",
       " 'Tow_Bar',\n",
       " 'Weight',\n",
       " 'cc',\n",
       " 'const']"
      ]
     },
     "execution_count": 24,
     "metadata": {},
     "output_type": "execute_result"
    }
   ],
   "source": [
    "list(mlrData.columns.difference([\"Price\"]))"
   ]
  },
  {
   "cell_type": "code",
   "execution_count": null,
   "metadata": {},
   "outputs": [],
   "source": []
  }
 ],
 "metadata": {
  "kernelspec": {
   "display_name": "Python 3",
   "language": "python",
   "name": "python3"
  },
  "language_info": {
   "codemirror_mode": {
    "name": "ipython",
    "version": 3
   },
   "file_extension": ".py",
   "mimetype": "text/x-python",
   "name": "python",
   "nbconvert_exporter": "python",
   "pygments_lexer": "ipython3",
   "version": "3.8.5"
  }
 },
 "nbformat": 4,
 "nbformat_minor": 4
}
