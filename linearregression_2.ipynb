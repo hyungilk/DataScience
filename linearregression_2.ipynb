{
 "cells": [
  {
   "cell_type": "code",
   "execution_count": 71,
   "metadata": {},
   "outputs": [],
   "source": [
    "### author : hyungil ed kim\n",
    "### date : 21.03.22\n",
    "\n",
    "### data science in python\n",
    "### 1. linear regression _ 2\n",
    "\n",
    "\n",
    "import pandas as pd\n",
    "import numpy as np\n",
    "import matplotlib.pyplot as plt\n",
    "\n",
    "\n",
    "# pandas data import\n",
    "df = pd.read_csv('Dataset_2.csv', header = None)\n",
    "df.columns = ['size','bedrooms','price']\n"
   ]
  },
  {
   "cell_type": "code",
   "execution_count": 95,
   "metadata": {},
   "outputs": [
    {
     "data": {
      "text/html": [
       "<div>\n",
       "<style scoped>\n",
       "    .dataframe tbody tr th:only-of-type {\n",
       "        vertical-align: middle;\n",
       "    }\n",
       "\n",
       "    .dataframe tbody tr th {\n",
       "        vertical-align: top;\n",
       "    }\n",
       "\n",
       "    .dataframe thead th {\n",
       "        text-align: right;\n",
       "    }\n",
       "</style>\n",
       "<table border=\"1\" class=\"dataframe\">\n",
       "  <thead>\n",
       "    <tr style=\"text-align: right;\">\n",
       "      <th></th>\n",
       "      <th>size</th>\n",
       "      <th>bedrooms</th>\n",
       "      <th>price</th>\n",
       "    </tr>\n",
       "  </thead>\n",
       "  <tbody>\n",
       "    <tr>\n",
       "      <th>0</th>\n",
       "      <td>0.130010</td>\n",
       "      <td>-0.223675</td>\n",
       "      <td>0.475747</td>\n",
       "    </tr>\n",
       "    <tr>\n",
       "      <th>1</th>\n",
       "      <td>-0.504190</td>\n",
       "      <td>-0.223675</td>\n",
       "      <td>-0.084074</td>\n",
       "    </tr>\n",
       "    <tr>\n",
       "      <th>2</th>\n",
       "      <td>0.502476</td>\n",
       "      <td>-0.223675</td>\n",
       "      <td>0.228626</td>\n",
       "    </tr>\n",
       "    <tr>\n",
       "      <th>3</th>\n",
       "      <td>-0.735723</td>\n",
       "      <td>-1.537767</td>\n",
       "      <td>-0.867025</td>\n",
       "    </tr>\n",
       "    <tr>\n",
       "      <th>4</th>\n",
       "      <td>1.257476</td>\n",
       "      <td>1.090417</td>\n",
       "      <td>1.595389</td>\n",
       "    </tr>\n",
       "  </tbody>\n",
       "</table>\n",
       "</div>"
      ],
      "text/plain": [
       "       size  bedrooms     price\n",
       "0  0.130010 -0.223675  0.475747\n",
       "1 -0.504190 -0.223675 -0.084074\n",
       "2  0.502476 -0.223675  0.228626\n",
       "3 -0.735723 -1.537767 -0.867025\n",
       "4  1.257476  1.090417  1.595389"
      ]
     },
     "execution_count": 95,
     "metadata": {},
     "output_type": "execute_result"
    }
   ],
   "source": [
    "# data scaling\n",
    "df.scaled = pd.DataFrame(df)\n",
    "\n",
    "# dataframe apply 함수 사용\n",
    "def mean_norm(df):\n",
    "    return df.apply(lambda x: (x-x.mean())/ x.std(), axis=0)\n",
    "\n",
    "df.scaled = mean_norm(df.scaled)\n",
    "df.scaled.head()"
   ]
  },
  {
   "cell_type": "code",
   "execution_count": 66,
   "metadata": {},
   "outputs": [
    {
     "data": {
      "text/html": [
       "<div>\n",
       "<style scoped>\n",
       "    .dataframe tbody tr th:only-of-type {\n",
       "        vertical-align: middle;\n",
       "    }\n",
       "\n",
       "    .dataframe tbody tr th {\n",
       "        vertical-align: top;\n",
       "    }\n",
       "\n",
       "    .dataframe thead th {\n",
       "        text-align: right;\n",
       "    }\n",
       "</style>\n",
       "<table border=\"1\" class=\"dataframe\">\n",
       "  <thead>\n",
       "    <tr style=\"text-align: right;\">\n",
       "      <th></th>\n",
       "      <th>size</th>\n",
       "      <th>bedrooms</th>\n",
       "      <th>price</th>\n",
       "      <th>const</th>\n",
       "    </tr>\n",
       "  </thead>\n",
       "  <tbody>\n",
       "    <tr>\n",
       "      <th>0</th>\n",
       "      <td>0.130010</td>\n",
       "      <td>-0.223675</td>\n",
       "      <td>0.475747</td>\n",
       "      <td>1</td>\n",
       "    </tr>\n",
       "    <tr>\n",
       "      <th>1</th>\n",
       "      <td>-0.504190</td>\n",
       "      <td>-0.223675</td>\n",
       "      <td>-0.084074</td>\n",
       "      <td>1</td>\n",
       "    </tr>\n",
       "    <tr>\n",
       "      <th>2</th>\n",
       "      <td>0.502476</td>\n",
       "      <td>-0.223675</td>\n",
       "      <td>0.228626</td>\n",
       "      <td>1</td>\n",
       "    </tr>\n",
       "    <tr>\n",
       "      <th>3</th>\n",
       "      <td>-0.735723</td>\n",
       "      <td>-1.537767</td>\n",
       "      <td>-0.867025</td>\n",
       "      <td>1</td>\n",
       "    </tr>\n",
       "    <tr>\n",
       "      <th>4</th>\n",
       "      <td>1.257476</td>\n",
       "      <td>1.090417</td>\n",
       "      <td>1.595389</td>\n",
       "      <td>1</td>\n",
       "    </tr>\n",
       "  </tbody>\n",
       "</table>\n",
       "</div>"
      ],
      "text/plain": [
       "       size  bedrooms     price  const\n",
       "0  0.130010 -0.223675  0.475747      1\n",
       "1 -0.504190 -0.223675 -0.084074      1\n",
       "2  0.502476 -0.223675  0.228626      1\n",
       "3 -0.735723 -1.537767 -0.867025      1\n",
       "4  1.257476  1.090417  1.595389      1"
      ]
     },
     "execution_count": 66,
     "metadata": {},
     "output_type": "execute_result"
    }
   ],
   "source": [
    "# bias항 생성\n",
    "bias = pd.DataFrame({\"const\":np.repeat(1,df.shape[0])})\n",
    "data = pd.concat((df.scaled,bias),axis=1)\n",
    "data.head()"
   ]
  },
  {
   "cell_type": "code",
   "execution_count": 102,
   "metadata": {},
   "outputs": [
    {
     "name": "stdout",
     "output_type": "stream",
     "text": [
      "   bedrooms  const      size\n",
      "0 -0.223675      1  0.130010\n",
      "1 -0.223675      1 -0.504190\n",
      "2 -0.223675      1  0.502476\n",
      "3 -1.537767      1 -0.735723\n",
      "4  1.090417      1  1.257476\n",
      "[-5.31788197e-02 -1.04897906e-16  8.84765988e-01]\n"
     ]
    }
   ],
   "source": [
    "# price값:dependent variable, 나머지:independent variable\n",
    "featureColumns = list(data.columns.difference([\"price\"]))\n",
    "X = data[featureColumns]\n",
    "y = data.price\n",
    "\n",
    "\n",
    "# w^{\\ast} = (X^T X)^{-1} X^T y\n",
    "# RSS 수식 계산\n",
    "\n",
    "# 선형회귀 계수 수식 직접 계산\n",
    "tmp1 = np.dot(X.T,X)\n",
    "theta = np.dot(np.linalg.inv(tmp1),np.dot(X.T,y))\n",
    "print(X.head())\n",
    "print(theta)\n",
    "\n"
   ]
  },
  {
   "cell_type": "code",
   "execution_count": 158,
   "metadata": {},
   "outputs": [],
   "source": [
    "# cost function\n",
    "def costFunc(X, y, theta):\n",
    "    z = (np.dot(X,theta)-y)**2\n",
    "    return (sum(z)/(2*X.shape[0]))\n",
    "\n",
    "def gradDescent(X, y, theta, alpha, iters):\n",
    "    gd = []\n",
    "    cost = []\n",
    "    for i in range(iters):\n",
    "        z = np.repeat(0, X.shape[1])\n",
    "        for j in range(X.shape[1]):\n",
    "            for k in range(X.shape[0]):\n",
    "                z[j] += ((np.dot(X.iloc[k,],theta)-y[k])*X.iloc[k,j])\n",
    "        tmp = theta -(alpha/X.shape[0])*(z)\n",
    "        theta = tmp\n",
    "        cost.append(costFunc(X,y,theta))\n",
    "    \n",
    "    return theta, cost\n",
    "\n"
   ]
  },
  {
   "cell_type": "code",
   "execution_count": 149,
   "metadata": {},
   "outputs": [
    {
     "data": {
      "text/plain": [
       "0.49"
      ]
     },
     "execution_count": 149,
     "metadata": {},
     "output_type": "execute_result"
    }
   ],
   "source": [
    "theta = np.repeat(0, X.shape[1])\n",
    "result = costFunc(X,y,theta)\n",
    "round(result,2)"
   ]
  },
  {
   "cell_type": "code",
   "execution_count": 159,
   "metadata": {},
   "outputs": [
    {
     "name": "stdout",
     "output_type": "stream",
     "text": [
      "[ 0.01361702 -0.01361702  0.40170213]\n"
     ]
    }
   ],
   "source": [
    "# gradient descent 계산\n",
    "iters, alpha = 3000, 0.01\n",
    "theta = np.repeat(0, X.shape[1])\n",
    "thetaResult, costResult = gradDescent(X, y, theta, alpha, iters)\n",
    "print(thetaResult)"
   ]
  },
  {
   "cell_type": "code",
   "execution_count": 161,
   "metadata": {},
   "outputs": [
    {
     "data": {
      "image/png": "[encoded data removed]",
      "text/plain": [
       "<Figure size 432x288 with 1 Axes>"
      ]
     },
     "metadata": {
      "needs_background": "light"
     },
     "output_type": "display_data"
    }
   ],
   "source": [
    "\n",
    "n = np.arange(iters)\n",
    "plt.plot(n, costResult)\n",
    "plt.show()"
   ]
  },
  {
   "cell_type": "code",
   "execution_count": 142,
   "metadata": {},
   "outputs": [
    {
     "data": {
      "text/plain": [
       "Intercept   -9.020562e-17\n",
       "size         8.847660e-01\n",
       "bedrooms    -5.317882e-02\n",
       "dtype: float64"
      ]
     },
     "execution_count": 142,
     "metadata": {},
     "output_type": "execute_result"
    }
   ],
   "source": [
    "# Multi-variable Linear Regression 학습\n",
    "import statsmodels.api as sm\n",
    "import statsmodels.formula.api as smf\n",
    "\n",
    "# OLS(Ordinary Least Squares) 잔차제곱합을 최소화 하는 계산식\n",
    "res = smf.ols(formula='price ~size+bedrooms', data=data).fit()\n",
    "# OLS 결과값 확인\n",
    "res.params\n",
    "\n",
    "# 수식으로 구한 theta의 계수 값들과 OLS를 통한 계산식의 결과과 유사함을 알수 있다."
   ]
  },
  {
   "cell_type": "code",
   "execution_count": 103,
   "metadata": {},
   "outputs": [
    {
     "name": "stdout",
     "output_type": "stream",
     "text": [
      "   VIF Factor  features\n",
      "0    4.388071      size\n",
      "1    1.467388  bedrooms\n",
      "2    3.744547     price\n",
      "3    1.000000     const\n"
     ]
    }
   ],
   "source": [
    "# 다중공선성 확인\n",
    "from statsmodels.stats.outliers_influence import variance_inflation_factor\n",
    "\n",
    "vif = pd.DataFrame()\n",
    "vif[\"VIF Factor\"] = [variance_inflation_factor(data.values,i)\n",
    "                    for i in range(data.shape[1])]\n",
    "vif[\"features\"] = data.columns\n",
    "print(vif)"
   ]
  },
  {
   "cell_type": "code",
   "execution_count": null,
   "metadata": {},
   "outputs": [],
   "source": []
  }
 ],
 "metadata": {
  "kernelspec": {
   "display_name": "Python 3",
   "language": "python",
   "name": "python3"
  },
  "language_info": {
   "codemirror_mode": {
    "name": "ipython",
    "version": 3
   },
   "file_extension": ".py",
   "mimetype": "text/x-python",
   "name": "python",
   "nbconvert_exporter": "python",
   "pygments_lexer": "ipython3",
   "version": "3.8.5"
  }
 },
 "nbformat": 4,
 "nbformat_minor": 4
}
